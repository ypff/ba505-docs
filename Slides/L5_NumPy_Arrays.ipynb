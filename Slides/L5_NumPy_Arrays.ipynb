{
 "cells": [
  {
   "cell_type": "markdown",
   "metadata": {
    "slideshow": {
     "slide_type": "slide"
    }
   },
   "source": [
    "![DSB Logo](img/Dolan.jpg)\n",
    "# The NumPy Library\n",
    "## NumPy Arrays to the Rescue\n",
    "[The NumPy Quickstart Tutorial](https://docs.scipy.org/doc/numpy-dev/user/quickstart.html)  \n",
    "[NumPy Reference Docs](https://docs.scipy.org/doc/numpy-dev/reference/index.html#reference)"
   ]
  },
  {
   "cell_type": "markdown",
   "metadata": {
    "slideshow": {
     "slide_type": "slide"
    }
   },
   "source": [
    "# Learning Objectives\n",
    "\n",
    "## Theory / Be able to explain ...\n",
    "- The benefits of NumPy for data analysts\n",
    "- Multidimensional Arrays, Type Coercion, Element-wise Operations, - Universal Functions, Structured Arrays, etc.\n",
    "- Data types as column specs in NumPy\n",
    "\n",
    "## Skills / Know how to  ...\n",
    "- Create and manipulate multidimensional arrays\n",
    "- Perform various array operations (without for loops)\n",
    "- Use universal functions to calculate descriptive stats\n",
    "- Import and export structured arrays"
   ]
  },
  {
   "cell_type": "markdown",
   "metadata": {
    "slideshow": {
     "slide_type": "slide"
    }
   },
   "source": [
    "# Basics\n",
    "## NumPy as a List Replacement"
   ]
  },
  {
   "cell_type": "markdown",
   "metadata": {
    "slideshow": {
     "slide_type": "slide"
    }
   },
   "source": [
    "# Lists are Great! … except when they’re not\n",
    "Lists are very flexible containers for ordered collections:\n",
    "- Allow mixed data types \n",
    "- Built in indexing and slicing schemes\n",
    "- Easy concatenation and copying\n",
    "\n",
    "However, lists are also somewhat inefficient:\n",
    "- Handling mixed data types requires extra processing\n",
    "- Most operations require `for` loops to iterate over the list items; slicing and concatenating are the exceptions"
   ]
  },
  {
   "cell_type": "markdown",
   "metadata": {
    "slideshow": {
     "slide_type": "slide"
    }
   },
   "source": [
    "# What’s wrong with `for` loops?\n",
    "```python\n",
    "for i in numbers:\n",
    "for i in range(len(numbers)):\n",
    "```\n",
    "- Prone to programmer error\n",
    "   - What type is the loop variable `i` in each case above?\n",
    "   - What if `numbers` is an empty list? What do we want to happen then? \n",
    "- Serialized execution (one cycle at a time) doesn’t give the interpreter much room to optimize\n",
    "   - Modern computers can do many things at once!"
   ]
  },
  {
   "cell_type": "markdown",
   "metadata": {
    "slideshow": {
     "slide_type": "slide"
    }
   },
   "source": [
    "# Standard Arrays to the Rescue?!?\n",
    "Standard library (‘vanilla’) arrays solve *some* of the errors and inefficiencies associated with mixed data types by requiring all data to be of the same type:\n",
    "```python\n",
    "from array import array\n",
    "array('i',1,2)          # list of ints\n",
    "array('f',1.0,5.0,7.8)  # list of floats\n",
    "array('u','a','↑','☺')  # list of characters\n",
    "``` \n",
    "However, they still require us to use loops to do anything meaningful with them!\n"
   ]
  },
  {
   "cell_type": "markdown",
   "metadata": {
    "slideshow": {
     "slide_type": "subslide"
    }
   },
   "source": [
    "Note: we had to import the `array` module; the `array` data type is included in the Specialized Types portion of the Standard Library.\n",
    "![Data Type Hierarchy](img/L4_Standard_Data_Types.png)"
   ]
  },
  {
   "cell_type": "markdown",
   "metadata": {
    "slideshow": {
     "slide_type": "slide"
    }
   },
   "source": [
    "# Introducing NumPy Arrays (the `ndarray` type)\n",
    "NumPy arrays are like standard arrays on steroids, with indexing, slicing, copying, etc. **plus** \n",
    "- **Type coercion** so you don’t get errors when you mix strings with floats\n",
    "- **Elementwise** versions of `*`, `/`, `+`, `-`, boolean comparisons, etc. that **eliminate the need for most for loops**\n",
    "- Methods for **descriptive statistics** and other common calculations\n",
    "- Support for **linear algebra** operations (dot prod, cross prod, etc.)\n",
    "- **Streamlined file Input / Output** for 2D tabular data"
   ]
  },
  {
   "cell_type": "markdown",
   "metadata": {
    "slideshow": {
     "slide_type": "slide"
    }
   },
   "source": [
    "# Implications for Analysts\n",
    "- Working with tabular data in **vanilla Python can be tedious and error-prone.**\n",
    "- NumPy simplifies things by **automating away** most of the tedium of loops, if statements, etc. \n",
    "- Tabular data in an `ndarray` **feels more like a spreadsheet**, only without the copy/paste and drag fills. \n",
    "- Except, of course, **NumPy can handle any sized data set** (if you have enough time)."
   ]
  },
  {
   "cell_type": "markdown",
   "metadata": {
    "slideshow": {
     "slide_type": "slide"
    }
   },
   "source": [
    "# Using NumPy Arrays\n",
    "## `ndarray` basics"
   ]
  },
  {
   "cell_type": "markdown",
   "metadata": {
    "slideshow": {
     "slide_type": "slide"
    }
   },
   "source": [
    "# Importing NumPy\n",
    "- NumPy is a third-party library that you have to install separately. (That’s why we don’t consider it vanilla.)\n",
    "- It’s probably a good idea to import numpy near the top of every script/notebook that needs it. \n",
    "- For the remaining slides, assume that we have already imported NumPy as follows: \n",
    "```python\n",
    "import numpy as np  # np always refers to NumPy\n",
    "```"
   ]
  },
  {
   "cell_type": "code",
   "execution_count": 1,
   "metadata": {
    "slideshow": {
     "slide_type": "fragment"
    }
   },
   "outputs": [],
   "source": [
    "import numpy as np"
   ]
  },
  {
   "cell_type": "markdown",
   "metadata": {
    "slideshow": {
     "slide_type": "slide"
    }
   },
   "source": [
    "# Creating a NumPy Array\n",
    "We can create a new `ndarray` from any ordered collection (list, tuple, etc.)."
   ]
  },
  {
   "cell_type": "code",
   "execution_count": 2,
   "metadata": {
    "slideshow": {
     "slide_type": "fragment"
    }
   },
   "outputs": [
    {
     "data": {
      "text/plain": [
       "numpy.ndarray"
      ]
     },
     "execution_count": 2,
     "metadata": {},
     "output_type": "execute_result"
    }
   ],
   "source": [
    "np_array = np.array([1,5,2,9]) # Note: from a list\n",
    "type(np_array)"
   ]
  },
  {
   "cell_type": "code",
   "execution_count": 3,
   "metadata": {
    "slideshow": {
     "slide_type": "fragment"
    }
   },
   "outputs": [
    {
     "data": {
      "text/plain": [
       "array([1, 5, 2, 9])"
      ]
     },
     "execution_count": 3,
     "metadata": {},
     "output_type": "execute_result"
    }
   ],
   "source": [
    "np_array"
   ]
  },
  {
   "cell_type": "code",
   "execution_count": 4,
   "metadata": {
    "slideshow": {
     "slide_type": "fragment"
    }
   },
   "outputs": [
    {
     "name": "stdout",
     "output_type": "stream",
     "text": [
      "5\n"
     ]
    }
   ],
   "source": [
    "print(np_array[1])"
   ]
  },
  {
   "cell_type": "code",
   "execution_count": 5,
   "metadata": {
    "slideshow": {
     "slide_type": "fragment"
    }
   },
   "outputs": [
    {
     "data": {
      "text/plain": [
       "4"
      ]
     },
     "execution_count": 5,
     "metadata": {},
     "output_type": "execute_result"
    }
   ],
   "source": [
    "len(np_array)"
   ]
  },
  {
   "cell_type": "markdown",
   "metadata": {
    "slideshow": {
     "slide_type": "slide"
    }
   },
   "source": [
    "# Type Coercion\n",
    "To prevent mixed types within an `ndarray`, NumPy will coerce (convert) all elements to a ‘lowest common denominator’ type that can represent the all of the data, where `int` → `float` → `str`  "
   ]
  },
  {
   "cell_type": "code",
   "execution_count": 6,
   "metadata": {
    "slideshow": {
     "slide_type": "fragment"
    }
   },
   "outputs": [
    {
     "data": {
      "text/plain": [
       "array([1., 2.])"
      ]
     },
     "execution_count": 6,
     "metadata": {},
     "output_type": "execute_result"
    }
   ],
   "source": [
    "np.array([1,2.0]) # coerces everything to float"
   ]
  },
  {
   "cell_type": "code",
   "execution_count": 7,
   "metadata": {
    "slideshow": {
     "slide_type": "fragment"
    }
   },
   "outputs": [
    {
     "data": {
      "text/plain": [
       "array(['1', '2.0', '3'], dtype='<U32')"
      ]
     },
     "execution_count": 7,
     "metadata": {},
     "output_type": "execute_result"
    }
   ],
   "source": [
    "np.array([1,2.0,'3']) # coerces everything to (U32-encoded) str"
   ]
  },
  {
   "cell_type": "markdown",
   "metadata": {
    "slideshow": {
     "slide_type": "slide"
    }
   },
   "source": [
    "# `ndarray` Attributes\n",
    "The `np.array` type keeps metadata about your arrays:"
   ]
  },
  {
   "cell_type": "code",
   "execution_count": 8,
   "metadata": {
    "slideshow": {
     "slide_type": "fragment"
    }
   },
   "outputs": [
    {
     "data": {
      "text/plain": [
       "2"
      ]
     },
     "execution_count": 8,
     "metadata": {},
     "output_type": "execute_result"
    }
   ],
   "source": [
    "np_array = np.array([[1,5,2,9],[2,1,9,5]])\n",
    "np_array.ndim \t# dimensions 1D, 2D, 3D, etc."
   ]
  },
  {
   "cell_type": "code",
   "execution_count": 9,
   "metadata": {
    "slideshow": {
     "slide_type": "fragment"
    }
   },
   "outputs": [
    {
     "data": {
      "text/plain": [
       "(2, 4)"
      ]
     },
     "execution_count": 9,
     "metadata": {},
     "output_type": "execute_result"
    }
   ],
   "source": [
    "np_array.shape \t# rows and columns for 2D"
   ]
  },
  {
   "cell_type": "code",
   "execution_count": 10,
   "metadata": {
    "slideshow": {
     "slide_type": "fragment"
    }
   },
   "outputs": [
    {
     "data": {
      "text/plain": [
       "dtype('int64')"
      ]
     },
     "execution_count": 10,
     "metadata": {},
     "output_type": "execute_result"
    }
   ],
   "source": [
    "np_array.dtype # data type; ‘int64’ is int"
   ]
  },
  {
   "cell_type": "markdown",
   "metadata": {},
   "source": [
    "Note: there are no parentheses because these are metadata attributes (data), not methods (functions)."
   ]
  },
  {
   "cell_type": "markdown",
   "metadata": {
    "slideshow": {
     "slide_type": "slide"
    }
   },
   "source": [
    "# Element-wise Operations\n",
    "Arithmetic operations work element-wise, iterating over the elements one at a time (without a for loop!)"
   ]
  },
  {
   "cell_type": "code",
   "execution_count": 11,
   "metadata": {},
   "outputs": [],
   "source": [
    "x =   np.array([[1,5, 2,9], [2, 1,9,5]])\n",
    "y =   np.array([[1,3, 4,2], [0, 5,8,3]])"
   ]
  },
  {
   "cell_type": "code",
   "execution_count": 12,
   "metadata": {
    "slideshow": {
     "slide_type": "fragment"
    }
   },
   "outputs": [
    {
     "data": {
      "text/plain": [
       "array([[ 0,  2, -2,  7],\n",
       "       [ 2, -4,  1,  2]])"
      ]
     },
     "execution_count": 12,
     "metadata": {},
     "output_type": "execute_result"
    }
   ],
   "source": [
    "x-y # pairwise operator"
   ]
  },
  {
   "cell_type": "code",
   "execution_count": 13,
   "metadata": {
    "slideshow": {
     "slide_type": "fragment"
    }
   },
   "outputs": [
    {
     "data": {
      "text/plain": [
       "array([[ 2, 10,  4, 18],\n",
       "       [ 4,  2, 18, 10]])"
      ]
     },
     "execution_count": 13,
     "metadata": {},
     "output_type": "execute_result"
    }
   ],
   "source": [
    "2*x # scalar operator"
   ]
  },
  {
   "cell_type": "code",
   "execution_count": 14,
   "metadata": {
    "slideshow": {
     "slide_type": "fragment"
    }
   },
   "outputs": [
    {
     "data": {
      "text/plain": [
       "array([[42, 68],\n",
       "       [51, 92]])"
      ]
     },
     "execution_count": 14,
     "metadata": {},
     "output_type": "execute_result"
    }
   ],
   "source": [
    "x.dot(np.transpose(y)) # dot product; not pairwise"
   ]
  },
  {
   "cell_type": "markdown",
   "metadata": {
    "slideshow": {
     "slide_type": "slide"
    }
   },
   "source": [
    "# Boolean Comparisons\n",
    "The built-in boolean comparators `==`, `!=`, `>`, `>=`, `<=`, etc. also apply element-wise:"
   ]
  },
  {
   "cell_type": "code",
   "execution_count": 15,
   "metadata": {},
   "outputs": [
    {
     "data": {
      "text/plain": [
       "array([False, False,  True,  True])"
      ]
     },
     "execution_count": 15,
     "metadata": {},
     "output_type": "execute_result"
    }
   ],
   "source": [
    "x = np.array([2,1,9,5])\n",
    "x>2"
   ]
  },
  {
   "cell_type": "code",
   "execution_count": 16,
   "metadata": {},
   "outputs": [
    {
     "data": {
      "text/plain": [
       "array([ True, False, False, False])"
      ]
     },
     "execution_count": 16,
     "metadata": {},
     "output_type": "execute_result"
    }
   ],
   "source": [
    "x==2"
   ]
  },
  {
   "cell_type": "code",
   "execution_count": 17,
   "metadata": {},
   "outputs": [
    {
     "data": {
      "text/plain": [
       "array([ True, False,  True,  True])"
      ]
     },
     "execution_count": 17,
     "metadata": {},
     "output_type": "execute_result"
    }
   ],
   "source": [
    "y = np.array([1,3,7,2])\n",
    "x>y"
   ]
  },
  {
   "cell_type": "markdown",
   "metadata": {
    "slideshow": {
     "slide_type": "slide"
    }
   },
   "source": [
    "# In-Place Operations\n",
    "If we want to do arithmetic on an `ndarray` without creating a copy, we can use `*=`,  `/=` , `+=`, and `-=`."
   ]
  },
  {
   "cell_type": "code",
   "execution_count": 18,
   "metadata": {},
   "outputs": [
    {
     "data": {
      "text/plain": [
       "array([ 3, 15,  6, 27])"
      ]
     },
     "execution_count": 18,
     "metadata": {},
     "output_type": "execute_result"
    }
   ],
   "source": [
    "np_array = np.array([1,5,2,9])\n",
    "np_array *= 3     # multiply each element by 3\n",
    "np_array"
   ]
  },
  {
   "cell_type": "markdown",
   "metadata": {
    "slideshow": {
     "slide_type": "slide"
    }
   },
   "source": [
    "# `ndarray` Operations\n",
    "## Methods and Functions"
   ]
  },
  {
   "cell_type": "markdown",
   "metadata": {
    "slideshow": {
     "slide_type": "slide"
    }
   },
   "source": [
    "# Array Methods\n",
    "`ndarray` has callable methods for descriptive statistics and other common **unary** calculations. "
   ]
  },
  {
   "cell_type": "code",
   "execution_count": 19,
   "metadata": {
    "slideshow": {
     "slide_type": "fragment"
    }
   },
   "outputs": [
    {
     "data": {
      "text/plain": [
       "17"
      ]
     },
     "execution_count": 19,
     "metadata": {},
     "output_type": "execute_result"
    }
   ],
   "source": [
    "x = np.array([1,5,2,9])\n",
    "x.sum()"
   ]
  },
  {
   "cell_type": "code",
   "execution_count": 20,
   "metadata": {
    "slideshow": {
     "slide_type": "fragment"
    }
   },
   "outputs": [
    {
     "data": {
      "text/plain": [
       "1"
      ]
     },
     "execution_count": 20,
     "metadata": {},
     "output_type": "execute_result"
    }
   ],
   "source": [
    "x.min()"
   ]
  },
  {
   "cell_type": "code",
   "execution_count": 21,
   "metadata": {
    "slideshow": {
     "slide_type": "fragment"
    }
   },
   "outputs": [
    {
     "data": {
      "text/plain": [
       "4.25"
      ]
     },
     "execution_count": 21,
     "metadata": {},
     "output_type": "execute_result"
    }
   ],
   "source": [
    "x.mean()"
   ]
  },
  {
   "cell_type": "code",
   "execution_count": 22,
   "metadata": {
    "slideshow": {
     "slide_type": "fragment"
    }
   },
   "outputs": [
    {
     "data": {
      "text/plain": [
       "array([1, 2, 5, 9])"
      ]
     },
     "execution_count": 22,
     "metadata": {},
     "output_type": "execute_result"
    }
   ],
   "source": [
    "x.sort() # modifies x!\n",
    "x"
   ]
  },
  {
   "cell_type": "markdown",
   "metadata": {},
   "source": [
    "Ref: https://docs.scipy.org/doc/numpy/reference/generated/numpy.ndarray.html"
   ]
  },
  {
   "cell_type": "markdown",
   "metadata": {
    "slideshow": {
     "slide_type": "slide"
    }
   },
   "source": [
    "# NumPy Universal Functions\n",
    "In addition to array methods, NumPy also supplies a bunch of useful array functions (that take `ndarray` inputs). There are too many to cover here, but RTFM (below) for more.  \n",
    "![Universal Functions](img/L5_Universal_Functions.png)  \n",
    "Excel geeks: don't the function names look familiar? That's somewhat intentional.    \n",
    "Ref: https://docs.scipy.org/doc/numpy-1.13.0/reference/ufuncs.html#available-ufuncs"
   ]
  },
  {
   "cell_type": "markdown",
   "metadata": {
    "slideshow": {
     "slide_type": "slide"
    }
   },
   "source": [
    "# Indexing Tricks\n",
    "## Selecting just the items you need without a for loop"
   ]
  },
  {
   "cell_type": "markdown",
   "metadata": {
    "slideshow": {
     "slide_type": "slide"
    }
   },
   "source": [
    "# Indexing and Slicing as Usual\n",
    "All the usual indexing & slicing rules apply to 1D `ndarrays`:"
   ]
  },
  {
   "cell_type": "code",
   "execution_count": 23,
   "metadata": {},
   "outputs": [
    {
     "data": {
      "text/plain": [
       "array([2, 3])"
      ]
     },
     "execution_count": 23,
     "metadata": {},
     "output_type": "execute_result"
    }
   ],
   "source": [
    "x=np.array([1,2,3])\n",
    "x[1:]"
   ]
  },
  {
   "cell_type": "markdown",
   "metadata": {},
   "source": [
    "2D and higher arrays allow comma separated slices:"
   ]
  },
  {
   "cell_type": "code",
   "execution_count": 24,
   "metadata": {},
   "outputs": [
    {
     "data": {
      "text/plain": [
       "array([5, 6])"
      ]
     },
     "execution_count": 24,
     "metadata": {},
     "output_type": "execute_result"
    }
   ],
   "source": [
    "x=np.array([[1,2,3],[4,5,6]]) \n",
    "x[1][1:] # vanilla Python"
   ]
  },
  {
   "cell_type": "code",
   "execution_count": 25,
   "metadata": {},
   "outputs": [
    {
     "data": {
      "text/plain": [
       "array([5, 6])"
      ]
     },
     "execution_count": 25,
     "metadata": {},
     "output_type": "execute_result"
    }
   ],
   "source": [
    "x[1,1:]  # with commas instead"
   ]
  },
  {
   "cell_type": "markdown",
   "metadata": {
    "slideshow": {
     "slide_type": "slide"
    }
   },
   "source": [
    "# Indexed Selections\n",
    "We can use an array of indexes to select elements from another array."
   ]
  },
  {
   "cell_type": "code",
   "execution_count": 26,
   "metadata": {
    "slideshow": {
     "slide_type": "-"
    }
   },
   "outputs": [
    {
     "data": {
      "text/plain": [
       "array([5, 9])"
      ]
     },
     "execution_count": 26,
     "metadata": {},
     "output_type": "execute_result"
    }
   ],
   "source": [
    "x = np.array([1,5,2,9])  # array of data\n",
    "i = np.array([1,3])      # array of selected indexes\n",
    "x[i]                     # x 'reduced' to i"
   ]
  },
  {
   "cell_type": "markdown",
   "metadata": {
    "slideshow": {
     "slide_type": "slide"
    }
   },
   "source": [
    "# Boolean Selections\n",
    "Booleans can also be used as selectors."
   ]
  },
  {
   "cell_type": "code",
   "execution_count": 27,
   "metadata": {},
   "outputs": [
    {
     "data": {
      "text/plain": [
       "array([False, False,  True,  True])"
      ]
     },
     "execution_count": 27,
     "metadata": {},
     "output_type": "execute_result"
    }
   ],
   "source": [
    "x = np.array([2,1,9,5])\n",
    "y=x>2     # y is an array of booleans\n",
    "y"
   ]
  },
  {
   "cell_type": "code",
   "execution_count": 28,
   "metadata": {},
   "outputs": [
    {
     "data": {
      "text/plain": [
       "array([9, 5])"
      ]
     },
     "execution_count": 28,
     "metadata": {},
     "output_type": "execute_result"
    }
   ],
   "source": [
    "x[y]      # use the booleans to select items from x"
   ]
  },
  {
   "cell_type": "code",
   "execution_count": 29,
   "metadata": {
    "slideshow": {
     "slide_type": "fragment"
    }
   },
   "outputs": [
    {
     "data": {
      "text/plain": [
       "array([9, 5])"
      ]
     },
     "execution_count": 29,
     "metadata": {},
     "output_type": "execute_result"
    }
   ],
   "source": [
    "x[x>2]    # all in one statement; it's weird but it works"
   ]
  },
  {
   "cell_type": "markdown",
   "metadata": {
    "slideshow": {
     "slide_type": "slide"
    }
   },
   "source": [
    "# Note about Iterating in 2D, 3D, etc.\n",
    "Take care when using for loops with NumPy arrays. They always iterate over the first axis (dimension)! "
   ]
  },
  {
   "cell_type": "code",
   "execution_count": 30,
   "metadata": {},
   "outputs": [
    {
     "name": "stdout",
     "output_type": "stream",
     "text": [
      "[1 2 3]\n",
      "[4 5 6]\n"
     ]
    }
   ],
   "source": [
    "x=np.array([[1,2,3],[4,5,6]])\n",
    "for i in x:\n",
    "    print(i) # i is an array, not a number"
   ]
  },
  {
   "cell_type": "code",
   "execution_count": 31,
   "metadata": {
    "slideshow": {
     "slide_type": "fragment"
    }
   },
   "outputs": [
    {
     "name": "stdout",
     "output_type": "stream",
     "text": [
      "1 2 3 \n",
      "\n",
      "4 5 6 \n",
      "\n"
     ]
    }
   ],
   "source": [
    "# What we probably wanted\n",
    "for row in x:\n",
    "    for i in row:\n",
    "        print(i,end=\" \") # end argument replaces newline with a space   \n",
    "    print('\\n') # the newline at the end of each row"
   ]
  },
  {
   "cell_type": "markdown",
   "metadata": {
    "slideshow": {
     "slide_type": "slide"
    }
   },
   "source": [
    "# Structured Arrays\n",
    "## When columns have names and types"
   ]
  },
  {
   "cell_type": "markdown",
   "metadata": {
    "slideshow": {
     "slide_type": "slide"
    }
   },
   "source": [
    "# Tables are more than just data ...\n",
    "Structured arrays let us specify metadata like column names and data types, **just like database tables**."
   ]
  },
  {
   "cell_type": "code",
   "execution_count": 32,
   "metadata": {},
   "outputs": [
    {
     "data": {
      "text/plain": [
       "array([(1, 'Paca', 'Al'), (2, 'Loblaw', 'Bob')],\n",
       "      dtype=[('id', '<i8'), ('lname', '<U25'), ('fname', '<U25')])"
      ]
     },
     "execution_count": 32,
     "metadata": {},
     "output_type": "execute_result"
    }
   ],
   "source": [
    "# a 2D (rows and columns) array of people data\n",
    "people = np.array([(1,'Paca','Al'),(2,'Loblaw','Bob')],          # the data\n",
    "            dtype=[('id',int),('lname', 'U25'),('fname','U25')]) # the columns\n",
    "people"
   ]
  },
  {
   "cell_type": "markdown",
   "metadata": {
    "slideshow": {
     "slide_type": "slide"
    }
   },
   "source": [
    "# The `dtype` Specification\n",
    "```python\n",
    "dtype=[('id',int),('lname', 'U25'),('fname','U25')]\n",
    "```\n",
    "Metadata for each column is encoded in the dtype spec, which is a list of a tuples  \n",
    "```python\n",
    "('<col name>',<type spec>)\n",
    "```\n",
    "\n",
    "Some common type specs ([RTFM](https://docs.scipy.org/doc/numpy/reference/arrays.dtypes.html))\n",
    "- `int`\n",
    "- `float`\n",
    "- `'U#'` (unicode string of up to # characters)  "
   ]
  },
  {
   "cell_type": "markdown",
   "metadata": {
    "slideshow": {
     "slide_type": "slide"
    }
   },
   "source": [
    "# Record Arrays\n",
    "Record arrays let us refer to columns as attributes with dot notation. All we have to do is use the `np.rec.array` type instead of `np.array`."
   ]
  },
  {
   "cell_type": "code",
   "execution_count": 33,
   "metadata": {},
   "outputs": [
    {
     "data": {
      "text/plain": [
       "'Loblaw'"
      ]
     },
     "execution_count": 33,
     "metadata": {},
     "output_type": "execute_result"
    }
   ],
   "source": [
    "people = np.rec.array([(1,'Paca','Al'),(2,'Loblaw','Bob')],\n",
    "         dtype=[('id','i'),('lname', 'U25'),('fname','U25')])\n",
    "people[1].lname # refers to second column by name"
   ]
  },
  {
   "cell_type": "markdown",
   "metadata": {},
   "source": [
    "Note that this is about as close as we can get to a SQL table in NumPy. That's why its called a **record** array (as in, an array of records)."
   ]
  },
  {
   "cell_type": "markdown",
   "metadata": {
    "slideshow": {
     "slide_type": "slide"
    }
   },
   "source": [
    "# File I/O\n",
    "## Fast and (relatively) easy import and export of tabular data"
   ]
  },
  {
   "cell_type": "markdown",
   "metadata": {
    "slideshow": {
     "slide_type": "slide"
    }
   },
   "source": [
    "# NumPy Data Sources\n",
    "NumPy can read and write data to:\n",
    "- Strings (and streams)\n",
    "- **CSV files**\n",
    "- Formatted text files\n",
    "- Binary files (raw, ‘pickled,’ or arrays)\n",
    "- Compressed archives (gzip)\n",
    "- Web URLs (with ftp, sftp, http, https)\n",
    "\n",
    "Ref: https://docs.scipy.org/doc/numpy-1.13.0/reference/routines.io.html\n"
   ]
  },
  {
   "cell_type": "markdown",
   "metadata": {
    "slideshow": {
     "slide_type": "slide"
    }
   },
   "source": [
    "# The `genfromtxt()` function\n",
    "The workhorse of NumPy I/O, `genfromtxt()` makes reading from CSV files almost automatic. No more opening, reading, splitting, stripping, closing…  \n",
    "```python\n",
    "my_table = np.genfromtxt('my_file.csv',delimiter=',')\n",
    "print(type(my_table)) # outputs <class 'numpy.ndarray'>\n",
    "```\n",
    "\n",
    "Ref: https://docs.scipy.org/doc/numpy-1.13.0/reference/generated/numpy.genfromtxt.html\n",
    "\n"
   ]
  },
  {
   "cell_type": "markdown",
   "metadata": {
    "slideshow": {
     "slide_type": "slide"
    }
   },
   "source": [
    "# `genfromtxt()` options\n",
    "`genfromtxt()` has lots of optional arguments:\n",
    "- `dtype` specifies the data type(s) of the columns\n",
    "- `delimiter` specifies the column separator\n",
    "- `autostrip` removes white space characters\n",
    "- `skipheader` \tskips the indicated number of lines\n",
    "- `usecols` indicates which columns to import\n",
    "- `names` provides column names (not needed if the full dtype is given)\n",
    "\n",
    "Ref: https://docs.scipy.org/doc/numpy-1.13.0/reference/generated/numpy.genfromtxt.html\n"
   ]
  },
  {
   "cell_type": "markdown",
   "metadata": {
    "slideshow": {
     "slide_type": "subslide"
    }
   },
   "source": [
    "## Examples\n",
    "```python\n",
    "# people.csv is a csv file with cols ID,LName,FName\n",
    "\n",
    "# This works if all data is numerical and no headers \n",
    "people = np.genfromtxt('people.csv',delimiter=',')\n",
    "\n",
    "# Skips the first line and uses mixed data types\n",
    "people = np.genfromtxt('people.csv',skip_header=1,\n",
    "           dtype=(int,'U25','U25'),names=\"id,lname,fname\",\n",
    "           delimiter=',')\n",
    "```\n"
   ]
  },
  {
   "cell_type": "markdown",
   "metadata": {
    "slideshow": {
     "slide_type": "subslide"
    }
   },
   "source": [
    "```python\n",
    "# Reads column names from the first line of the file\n",
    "people = np.genfromtxt('people.csv',names=True,\n",
    "           dtype=(int,'U25','U25'),delimiter=',')\n",
    "\n",
    "# Shorthand function for CSV; returns a rec.array\n",
    "people =np.recfromcsv('people.csv',names=True,\n",
    "           dtype=(int,'U25','U25'))\n",
    "```"
   ]
  },
  {
   "cell_type": "markdown",
   "metadata": {
    "slideshow": {
     "slide_type": "slide"
    }
   },
   "source": [
    "# Some Helpful Advice About Overspecifying Your Data Import: Don't\n",
    "With all the `genfromtxt` optional arguments, it's tempting to use all of them. However, they interact in sometime unintuitive ways. \n",
    "\n",
    "NumPy does a suprisingly good job of guessing data types, etc. *if you don't short-circuit the guessing with unnecessary options.* So let it try *and then* add options to fix any problems you encounter. "
   ]
  },
  {
   "cell_type": "markdown",
   "metadata": {
    "slideshow": {
     "slide_type": "slide"
    }
   },
   "source": [
    "# Output with `savetxt()`\n",
    "The `savetxt()` function does the reverse of `genfromtxt()`.\n",
    "```python\n",
    "# people is a structured array\n",
    "# Save to the CSV file “out.csv”\n",
    "np.savetxt(\"out.csv\", people, delimiter= ',')\n",
    "\n",
    "# Save as a gzip file, detected from the filename\n",
    "np.savetxt(\"out.csv.gz\", people, delimiter= ',')\n",
    "```"
   ]
  },
  {
   "cell_type": "markdown",
   "metadata": {
    "slideshow": {
     "slide_type": "slide"
    }
   },
   "source": [
    "# Classwork (Start here in class)\n",
    "- If time permits, start in on your homework \n",
    "\n",
    "# Homework (Do at home over Fall Break)\n",
    "The following is due before class next week:\n",
    "- Any remaining classwork from tonight\n",
    "\n",
    "\n",
    "Please email chuntley@fairfield.edu if you have any problems or questions."
   ]
  },
  {
   "cell_type": "code",
   "execution_count": null,
   "metadata": {},
   "outputs": [],
   "source": []
  }
 ],
 "metadata": {
  "kernelspec": {
   "display_name": "Python 3",
   "language": "python",
   "name": "python3"
  },
  "language_info": {
   "codemirror_mode": {
    "name": "ipython",
    "version": 3
   },
   "file_extension": ".py",
   "mimetype": "text/x-python",
   "name": "python",
   "nbconvert_exporter": "python",
   "pygments_lexer": "ipython3",
   "version": "3.6.6"
  }
 },
 "nbformat": 4,
 "nbformat_minor": 2
}
