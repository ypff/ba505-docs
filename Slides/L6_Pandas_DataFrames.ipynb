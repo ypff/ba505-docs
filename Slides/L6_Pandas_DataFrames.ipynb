{
 "cells": [
  {
   "cell_type": "markdown",
   "metadata": {
    "slideshow": {
     "slide_type": "slide"
    }
   },
   "source": [
    "![DSB Logo](img/Dolan.jpg)\n",
    "# The pandas Library\n",
    "## pandas Series and DataFrames \n",
    "[The pandas Docs](http://pandas.pydata.org/pandas-docs/stable/index.html)"
   ]
  },
  {
   "cell_type": "markdown",
   "metadata": {
    "slideshow": {
     "slide_type": "slide"
    }
   },
   "source": [
    "# Learning Objectives\n",
    "\n",
    "## Theory / Be able to explain ...\n",
    "- pandas vis-a-vis NumPy\n",
    "- The Series and DataFrame data types\n",
    "\n",
    "## Skills / Know how to  ...\n",
    "- Create well-structured Series and DataFrames from lists, dicts, Numpy arrays, etc.\n",
    "- Import and export data from/to various sources"
   ]
  },
  {
   "cell_type": "markdown",
   "metadata": {
    "slideshow": {
     "slide_type": "slide"
    }
   },
   "source": [
    "# What's pandas?\n",
    "## NumPy needs a little help sometimes ..."
   ]
  },
  {
   "cell_type": "markdown",
   "metadata": {
    "slideshow": {
     "slide_type": "slide"
    }
   },
   "source": [
    "# From the docs ...\n",
    "> pandas is a Python package providing fast, flexible, and expressive data structures designed to make working with 'relational' or 'labeled' data both easy and intuitive.\n",
    "\n",
    "- Sounds a lot like a database management system, right? \n",
    "- Why would we need that if we already have NumPy?"
   ]
  },
  {
   "cell_type": "markdown",
   "metadata": {
    "slideshow": {
     "slide_type": "slide"
    }
   },
   "source": [
    "# Information is more than just Data\n",
    "- NumPy is a very fast and efficient number crunching machine for structured data, which is great, but … \n",
    "   - NumPy arrays are not so good at preparing data for analysis\n",
    "   - What if we only want a subset of the rows and columns? Is slicing enough?\n",
    "   - What if our data tables have missing values? \n",
    "   - What if we want more than ints, floats, and strings?\n",
    "- NumPy also does almost nothing about presentation of data for consumption by  humans"
   ]
  },
  {
   "cell_type": "markdown",
   "metadata": {
    "slideshow": {
     "slide_type": "slide"
    }
   },
   "source": [
    "# pandas FTW\n",
    "pandas is built on top of NumPy (for now) to provide ...\n",
    "- More flexible data structures that can handle **more data types and indexing schemes**\n",
    "- A wide variety of functions and methods for **slicing and dicing large data sets** into NumPy-friendly chunks\n",
    "- Import and export facilities for **just about any data source** one might actually encounter"
   ]
  },
  {
   "cell_type": "markdown",
   "metadata": {
    "slideshow": {
     "slide_type": "slide"
    }
   },
   "source": [
    "# Why Do We Need NumPy Then?\n",
    "pandas’s flexibility and utility comes at a performance cost: \n",
    "- **Speed:** NumPy, with its highly structured and optimized numerical routines, is much faster than Pandas for most things.\n",
    "- **Storage:** Pandas’s greater expressiveness also makes it more verbose and less space efficient.  \n",
    "\n",
    "Nonetheless, pandas makes some things possible that NumPy can’t do alone."
   ]
  },
  {
   "cell_type": "markdown",
   "metadata": {
    "slideshow": {
     "slide_type": "slide"
    }
   },
   "source": [
    "# Bridging an Architectural Gap\n",
    "![NumPy Data Gap](img/L6_NumPy_gap1.png)"
   ]
  },
  {
   "cell_type": "markdown",
   "metadata": {
    "slideshow": {
     "slide_type": "subslide"
    }
   },
   "source": [
    "![NumPy Data Gap](img/L6_NumPy_gap2.png)"
   ]
  },
  {
   "cell_type": "markdown",
   "metadata": {
    "slideshow": {
     "slide_type": "slide"
    }
   },
   "source": [
    "# pandas `dtype`s\n",
    "Recall that NumPy has just `int`, `float`, and string objects (in various formats)\n",
    "\n",
    "pandas has a larger set of dtypes to choose from:\n",
    "- Primitives: `int`, `float`, and `bool`\n",
    "- Date/Time: `datetime64` and `timedelta`\n",
    "- Enumerations: `category`\n",
    "- Serializables: `object` (e.g., string spec'ed as `'O'`) \n",
    "\n",
    "Note that in pandas strings are not considered a primitive but booleans are. "
   ]
  },
  {
   "cell_type": "markdown",
   "metadata": {
    "slideshow": {
     "slide_type": "slide"
    }
   },
   "source": [
    "# Missing Data (NaN)\n",
    "Sometimes data tables are incomplete, with missing data. When this happens pandas stores `NaN` ('not a number') instead of a number.  \n",
    "**This is a feature, not a bug!**"
   ]
  },
  {
   "cell_type": "markdown",
   "metadata": {
    "slideshow": {
     "slide_type": "slide"
    }
   },
   "source": [
    "# Standard Imports\n",
    "The remaining slides assume that we have already imported NumPy and Pandas in the standard way."
   ]
  },
  {
   "cell_type": "code",
   "execution_count": 1,
   "metadata": {},
   "outputs": [],
   "source": [
    "import numpy as np\n",
    "import pandas as pd"
   ]
  },
  {
   "cell_type": "markdown",
   "metadata": {
    "slideshow": {
     "slide_type": "slide"
    }
   },
   "source": [
    "# Series and DataFrames\n",
    "pandas includes two data structures:\n",
    "- 1D **Series** acts like an `array` and a `dict` at the same time\n",
    "   - Values stored in a given order and in the same `dtype`\n",
    "   - An `index` consisting of 'labels' (keys), one per value\n",
    "   - Compatible with the `ndarray` data type. In fact, you can use most NumPy methods and functions without converting anything."
   ]
  },
  {
   "cell_type": "markdown",
   "metadata": {
    "slideshow": {
     "slide_type": "fragment"
    }
   },
   "source": [
    "- 2D **DataFrame** is a container for multiple, equal-length *columns* of data\n",
    "   - Conceptually, a `dict` of Series, one key per column, though there are subtle differences between a one-column DataFrame and a single Series.\n",
    "   - Designed to be equivalent to a database table, with functions and methods to match."
   ]
  },
  {
   "cell_type": "markdown",
   "metadata": {
    "slideshow": {
     "slide_type": "slide"
    }
   },
   "source": [
    "# The Series Data Structure\n",
    "## NumPy `ndarray`s with a few useful tweaks"
   ]
  },
  {
   "cell_type": "markdown",
   "metadata": {
    "slideshow": {
     "slide_type": "slide"
    }
   },
   "source": [
    "# Series is a Container for 1D data\n",
    "- A pandas series has a common data type (int, float, etc.) and optionally a **name** (like a column header). \n",
    "- The **values** in the series are **indexed** either by position (0,1,2,3,4,etc.) or by label ('a', 'b', 'c', etc.).\n",
    "- Series are also NumPy compatible (implementing the same interface as `ndarray`)"
   ]
  },
  {
   "cell_type": "markdown",
   "metadata": {
    "slideshow": {
     "slide_type": "slide"
    }
   },
   "source": [
    "# Series are `array`-like and `dict`-like"
   ]
  },
  {
   "cell_type": "code",
   "execution_count": 2,
   "metadata": {},
   "outputs": [],
   "source": [
    "# A series with index labels\n",
    "s = pd.Series([3.1, 2.8, 8.9], \n",
    "               index=['apatite', 'calcite', 'copper'])"
   ]
  },
  {
   "cell_type": "code",
   "execution_count": 3,
   "metadata": {},
   "outputs": [
    {
     "data": {
      "text/plain": [
       "apatite    3.1\n",
       "calcite    2.8\n",
       "dtype: float64"
      ]
     },
     "execution_count": 3,
     "metadata": {},
     "output_type": "execute_result"
    }
   ],
   "source": [
    "# can slice like a NumPy array\n",
    "s[:2]"
   ]
  },
  {
   "cell_type": "code",
   "execution_count": 4,
   "metadata": {},
   "outputs": [
    {
     "data": {
      "text/plain": [
       "3.1"
      ]
     },
     "execution_count": 4,
     "metadata": {},
     "output_type": "execute_result"
    }
   ],
   "source": [
    "# can use keys like a dict \n",
    "s['apatite']"
   ]
  },
  {
   "cell_type": "markdown",
   "metadata": {
    "slideshow": {
     "slide_type": "slide"
    }
   },
   "source": [
    "# Creating Series\n",
    "Ultimately, every series has the following elements:\n",
    "- data: a sequence of items\n",
    "- `dtype`: all items will be coerced to the same data type\n",
    "- `index`: a sequence of unique, hashable keys/labels (one per item)\n",
    "- `name`: optional, more for us humans than anything else\n",
    "\n",
    "While each of these things can be given at series creation, often pandas can infer them for us. \n",
    "\n",
    "This allows us to populate a series in lots of ways. For example ..."
   ]
  },
  {
   "cell_type": "markdown",
   "metadata": {
    "slideshow": {
     "slide_type": "subslide"
    }
   },
   "source": [
    "## with just data"
   ]
  },
  {
   "cell_type": "code",
   "execution_count": 5,
   "metadata": {
    "slideshow": {
     "slide_type": "-"
    }
   },
   "outputs": [
    {
     "data": {
      "text/plain": [
       "0    3.1\n",
       "1    2.8\n",
       "2    8.9\n",
       "dtype: float64"
      ]
     },
     "execution_count": 5,
     "metadata": {},
     "output_type": "execute_result"
    }
   ],
   "source": [
    "s1 = pd.Series([3.1, 2.8, 8.9])\n",
    "s1"
   ]
  },
  {
   "cell_type": "markdown",
   "metadata": {},
   "source": [
    "The `dtype` is inferred from the data.  \n",
    "Integer indexes are generated automatically."
   ]
  },
  {
   "cell_type": "markdown",
   "metadata": {
    "slideshow": {
     "slide_type": "subslide"
    }
   },
   "source": [
    "## with data + dtype "
   ]
  },
  {
   "cell_type": "code",
   "execution_count": 6,
   "metadata": {},
   "outputs": [
    {
     "data": {
      "text/plain": [
       "0    3.1\n",
       "1    2.8\n",
       "2    8.9\n",
       "dtype: float32"
      ]
     },
     "execution_count": 6,
     "metadata": {},
     "output_type": "execute_result"
    }
   ],
   "source": [
    "s2 = pd.Series([3.1, 2.8, 8.9], dtype='float32')\n",
    "s2"
   ]
  },
  {
   "cell_type": "markdown",
   "metadata": {},
   "source": [
    "pandas usually guesses the intended dtype pretty well. We can explicitly set it when needed, however. "
   ]
  },
  {
   "cell_type": "markdown",
   "metadata": {
    "slideshow": {
     "slide_type": "subslide"
    }
   },
   "source": [
    "## with data + index"
   ]
  },
  {
   "cell_type": "code",
   "execution_count": 7,
   "metadata": {
    "slideshow": {
     "slide_type": "-"
    }
   },
   "outputs": [
    {
     "data": {
      "text/plain": [
       "apatite    3.1\n",
       "calcite    2.8\n",
       "copper     8.9\n",
       "dtype: float64"
      ]
     },
     "execution_count": 7,
     "metadata": {},
     "output_type": "execute_result"
    }
   ],
   "source": [
    "s3 = pd.Series([3.1, 2.8, 8.9], \n",
    "               index=['apatite', 'calcite', 'copper'])\n",
    "s3"
   ]
  },
  {
   "cell_type": "markdown",
   "metadata": {},
   "source": [
    "Here we have included labels as indexes."
   ]
  },
  {
   "cell_type": "markdown",
   "metadata": {
    "slideshow": {
     "slide_type": "subslide"
    }
   },
   "source": [
    "## ... with data + index + name"
   ]
  },
  {
   "cell_type": "code",
   "execution_count": 8,
   "metadata": {
    "slideshow": {
     "slide_type": "-"
    }
   },
   "outputs": [
    {
     "data": {
      "text/plain": [
       "apatite    3.1\n",
       "calcite    2.8\n",
       "copper     8.9\n",
       "Name: density, dtype: float64"
      ]
     },
     "execution_count": 8,
     "metadata": {},
     "output_type": "execute_result"
    }
   ],
   "source": [
    "s4 = pd.Series([3.1, 2.8, 8.9], \n",
    "               index=['apatite', 'calcite', 'copper'], \n",
    "               name= 'density')\n",
    "s4"
   ]
  },
  {
   "cell_type": "markdown",
   "metadata": {},
   "source": [
    "The name is optional but does help wth displaying multiple series at a time."
   ]
  },
  {
   "cell_type": "markdown",
   "metadata": {
    "slideshow": {
     "slide_type": "subslide"
    }
   },
   "source": [
    "## … from a NumPy `ndarray`"
   ]
  },
  {
   "cell_type": "code",
   "execution_count": 9,
   "metadata": {},
   "outputs": [
    {
     "data": {
      "text/plain": [
       "apatite    3.1\n",
       "calcite    2.8\n",
       "copper     8.9\n",
       "Name: density, dtype: float64"
      ]
     },
     "execution_count": 9,
     "metadata": {},
     "output_type": "execute_result"
    }
   ],
   "source": [
    "s5=pd.Series(np.array([3.1, 2.8, 8.9]),\n",
    "          index=['apatite','calcite','copper'],\n",
    "          name='density')\n",
    "s5"
   ]
  },
  {
   "cell_type": "markdown",
   "metadata": {},
   "source": [
    "Not surprisingly, we can use an `ndarray` instead of a list."
   ]
  },
  {
   "cell_type": "markdown",
   "metadata": {
    "slideshow": {
     "slide_type": "subslide"
    }
   },
   "source": [
    "## … from a `dict`"
   ]
  },
  {
   "cell_type": "code",
   "execution_count": 10,
   "metadata": {},
   "outputs": [
    {
     "data": {
      "text/plain": [
       "apatite    3.1\n",
       "calcite    2.8\n",
       "copper     8.9\n",
       "Name: density, dtype: float64"
      ]
     },
     "execution_count": 10,
     "metadata": {},
     "output_type": "execute_result"
    }
   ],
   "source": [
    "s6 = pd.Series({'apatite':3.1,'calcite':2.8,'copper':8.9},\n",
    "               name='density')\n",
    "s6"
   ]
  },
  {
   "cell_type": "markdown",
   "metadata": {},
   "source": [
    "The dictionary keys are used as the indexes, just as we'd expect. "
   ]
  },
  {
   "cell_type": "markdown",
   "metadata": {
    "slideshow": {
     "slide_type": "slide"
    }
   },
   "source": [
    "# The DataFrame Data Structure\n",
    "## The Workhorse of Data Science"
   ]
  },
  {
   "cell_type": "markdown",
   "metadata": {
    "slideshow": {
     "slide_type": "slide"
    }
   },
   "source": [
    "# DataFrames are for 2D data\n",
    "- Most similar to a database table:\n",
    "    - organized into rows and columns\n",
    "    - each column has a name and a data type\n",
    "    - each row has an index (numbered or labeled)\n",
    "- Convertible from/to NumPy Structured Arrays.\n",
    "    - Even the attributes (names) from `rec.array` translate to column labels\n",
    "- Have advanced indexing features to provide 'query-like' selections of data\n"
   ]
  },
  {
   "cell_type": "markdown",
   "metadata": {
    "slideshow": {
     "slide_type": "slide"
    }
   },
   "source": [
    "# DataFrames as Series Containers\n",
    "Internally, a DataFrame organizes 2D data into 1D columns:\n",
    "- each column is a Series with a shared index and the same length \n",
    "- each column has a name, which works like a key  \n",
    "\n",
    "In fact, we can construct a DataFrame from a `dict` of `pd.Series`"
   ]
  },
  {
   "cell_type": "code",
   "execution_count": 11,
   "metadata": {},
   "outputs": [
    {
     "data": {
      "text/html": [
       "<div>\n",
       "<style scoped>\n",
       "    .dataframe tbody tr th:only-of-type {\n",
       "        vertical-align: middle;\n",
       "    }\n",
       "\n",
       "    .dataframe tbody tr th {\n",
       "        vertical-align: top;\n",
       "    }\n",
       "\n",
       "    .dataframe thead th {\n",
       "        text-align: right;\n",
       "    }\n",
       "</style>\n",
       "<table border=\"1\" class=\"dataframe\">\n",
       "  <thead>\n",
       "    <tr style=\"text-align: right;\">\n",
       "      <th></th>\n",
       "      <th>diam</th>\n",
       "      <th>spin</th>\n",
       "      <th>orbit</th>\n",
       "    </tr>\n",
       "  </thead>\n",
       "  <tbody>\n",
       "    <tr>\n",
       "      <th>Earth</th>\n",
       "      <td>12756</td>\n",
       "      <td>0.997</td>\n",
       "      <td>365.25</td>\n",
       "    </tr>\n",
       "    <tr>\n",
       "      <th>Mercury</th>\n",
       "      <td>4878</td>\n",
       "      <td>59.000</td>\n",
       "      <td>88.00</td>\n",
       "    </tr>\n",
       "    <tr>\n",
       "      <th>Venus</th>\n",
       "      <td>12104</td>\n",
       "      <td>243.000</td>\n",
       "      <td>0.90</td>\n",
       "    </tr>\n",
       "  </tbody>\n",
       "</table>\n",
       "</div>"
      ],
      "text/plain": [
       "           diam     spin   orbit\n",
       "Earth     12756    0.997  365.25\n",
       " Mercury   4878   59.000   88.00\n",
       "Venus     12104  243.000    0.90"
      ]
     },
     "execution_count": 11,
     "metadata": {},
     "output_type": "execute_result"
    }
   ],
   "source": [
    "planets = ['Earth', ' Mercury', 'Venus'] # the shared index\n",
    "solar_system = pd.DataFrame(\n",
    "                   {   'diam': pd.Series([12756,4878,12104],index=planets), \n",
    "                       'spin': pd.Series([0.997, 59, 243], index=planets),\n",
    "                       'orbit': pd.Series([365.25, 88, 0.9], index=planets)\n",
    "                   }\n",
    "             )\n",
    "solar_system"
   ]
  },
  {
   "cell_type": "markdown",
   "metadata": {
    "slideshow": {
     "slide_type": "slide"
    }
   },
   "source": [
    "# Creating DataFrames\n",
    "Lots and lots and lots of options:\n",
    "- From a `list` of `dict`s (row-wise)\n",
    "- From a `dict` of `list`s or `np.arrays` (column-wise)\n",
    "- From an `ndarray` or `rec.array` \n",
    "- From a `Series` (or `dict `of `Series`)\n",
    "- Using `pd.from_dict()`, `pd.from_records()`, `pd.from_items()` functions  \n",
    "...\n"
   ]
  },
  {
   "cell_type": "markdown",
   "metadata": {
    "slideshow": {
     "slide_type": "subslide"
    }
   },
   "source": [
    "## … From a `list` of `dict`s"
   ]
  },
  {
   "cell_type": "code",
   "execution_count": 12,
   "metadata": {},
   "outputs": [],
   "source": [
    "planets_list_of_dicts = [{'name':'Mercury','diam':4878,'spin':59,'orbit':88,'grav':0.38},\n",
    " {'name':'Venus','diam':12104,'spin':243,'orbit':224,'grav':0.9},\n",
    " {'name':'Earth','diam':12756,'spin':0.997,'orbit':365.25,'grav':1.0},\n",
    " {'name':'Mars','diam':6794,'spin':1.025,'orbit':687,'grav':0.38},\n",
    " {'name':'Jupiter','diam':142984,'spin':0.413,'orbit':4329,'grav':2.64},         \n",
    " {'name':'Saturn','diam':120536,'spin':0.44375,'orbit':10592.25,'grav':1.16},\n",
    " {'name':'Uranus','diam':51118,'spin':0.71805,'orbit':30681,'grav':1.11},\n",
    " {'name':'Neptune','diam':49532,'spin':0.67153,'orbit':60193.2,'grav':1.21}]\n",
    "planets1 = pd.DataFrame(planets_list_of_dicts)"
   ]
  },
  {
   "cell_type": "code",
   "execution_count": 13,
   "metadata": {
    "slideshow": {
     "slide_type": "subslide"
    }
   },
   "outputs": [
    {
     "data": {
      "text/html": [
       "<div>\n",
       "<style scoped>\n",
       "    .dataframe tbody tr th:only-of-type {\n",
       "        vertical-align: middle;\n",
       "    }\n",
       "\n",
       "    .dataframe tbody tr th {\n",
       "        vertical-align: top;\n",
       "    }\n",
       "\n",
       "    .dataframe thead th {\n",
       "        text-align: right;\n",
       "    }\n",
       "</style>\n",
       "<table border=\"1\" class=\"dataframe\">\n",
       "  <thead>\n",
       "    <tr style=\"text-align: right;\">\n",
       "      <th></th>\n",
       "      <th>diam</th>\n",
       "      <th>grav</th>\n",
       "      <th>name</th>\n",
       "      <th>orbit</th>\n",
       "      <th>spin</th>\n",
       "    </tr>\n",
       "  </thead>\n",
       "  <tbody>\n",
       "    <tr>\n",
       "      <th>0</th>\n",
       "      <td>4878</td>\n",
       "      <td>0.38</td>\n",
       "      <td>Mercury</td>\n",
       "      <td>88.00</td>\n",
       "      <td>59.00000</td>\n",
       "    </tr>\n",
       "    <tr>\n",
       "      <th>1</th>\n",
       "      <td>12104</td>\n",
       "      <td>0.90</td>\n",
       "      <td>Venus</td>\n",
       "      <td>224.00</td>\n",
       "      <td>243.00000</td>\n",
       "    </tr>\n",
       "    <tr>\n",
       "      <th>2</th>\n",
       "      <td>12756</td>\n",
       "      <td>1.00</td>\n",
       "      <td>Earth</td>\n",
       "      <td>365.25</td>\n",
       "      <td>0.99700</td>\n",
       "    </tr>\n",
       "    <tr>\n",
       "      <th>3</th>\n",
       "      <td>6794</td>\n",
       "      <td>0.38</td>\n",
       "      <td>Mars</td>\n",
       "      <td>687.00</td>\n",
       "      <td>1.02500</td>\n",
       "    </tr>\n",
       "    <tr>\n",
       "      <th>4</th>\n",
       "      <td>142984</td>\n",
       "      <td>2.64</td>\n",
       "      <td>Jupiter</td>\n",
       "      <td>4329.00</td>\n",
       "      <td>0.41300</td>\n",
       "    </tr>\n",
       "    <tr>\n",
       "      <th>5</th>\n",
       "      <td>120536</td>\n",
       "      <td>1.16</td>\n",
       "      <td>Saturn</td>\n",
       "      <td>10592.25</td>\n",
       "      <td>0.44375</td>\n",
       "    </tr>\n",
       "    <tr>\n",
       "      <th>6</th>\n",
       "      <td>51118</td>\n",
       "      <td>1.11</td>\n",
       "      <td>Uranus</td>\n",
       "      <td>30681.00</td>\n",
       "      <td>0.71805</td>\n",
       "    </tr>\n",
       "    <tr>\n",
       "      <th>7</th>\n",
       "      <td>49532</td>\n",
       "      <td>1.21</td>\n",
       "      <td>Neptune</td>\n",
       "      <td>60193.20</td>\n",
       "      <td>0.67153</td>\n",
       "    </tr>\n",
       "  </tbody>\n",
       "</table>\n",
       "</div>"
      ],
      "text/plain": [
       "     diam  grav     name     orbit       spin\n",
       "0    4878  0.38  Mercury     88.00   59.00000\n",
       "1   12104  0.90    Venus    224.00  243.00000\n",
       "2   12756  1.00    Earth    365.25    0.99700\n",
       "3    6794  0.38     Mars    687.00    1.02500\n",
       "4  142984  2.64  Jupiter   4329.00    0.41300\n",
       "5  120536  1.16   Saturn  10592.25    0.44375\n",
       "6   51118  1.11   Uranus  30681.00    0.71805\n",
       "7   49532  1.21  Neptune  60193.20    0.67153"
      ]
     },
     "execution_count": 13,
     "metadata": {},
     "output_type": "execute_result"
    }
   ],
   "source": [
    "planets1"
   ]
  },
  {
   "cell_type": "markdown",
   "metadata": {
    "slideshow": {
     "slide_type": "-"
    }
   },
   "source": [
    "Notice how the columns are sorted by name?"
   ]
  },
  {
   "cell_type": "markdown",
   "metadata": {
    "slideshow": {
     "slide_type": "subslide"
    }
   },
   "source": [
    "## … From a `dict` of `dict`s\n",
    "One `dict` per column, with the names as keys."
   ]
  },
  {
   "cell_type": "code",
   "execution_count": 14,
   "metadata": {},
   "outputs": [],
   "source": [
    "planets_dict_of_dicts= {\n",
    "    'diam':{'Mercury':4878,'Venus':12104,'Earth':12756},\n",
    "    'spin':{'Mercury':59,'Venus':243,'Earth':0.997},\n",
    "    'orbit':{'Mercury':88,'Venus':0.9,'Earth':365.25}\n",
    "}\n",
    "planets2=pd.DataFrame(planets_dict_of_dicts)"
   ]
  },
  {
   "cell_type": "code",
   "execution_count": 15,
   "metadata": {
    "slideshow": {
     "slide_type": "subslide"
    }
   },
   "outputs": [
    {
     "data": {
      "text/html": [
       "<div>\n",
       "<style scoped>\n",
       "    .dataframe tbody tr th:only-of-type {\n",
       "        vertical-align: middle;\n",
       "    }\n",
       "\n",
       "    .dataframe tbody tr th {\n",
       "        vertical-align: top;\n",
       "    }\n",
       "\n",
       "    .dataframe thead th {\n",
       "        text-align: right;\n",
       "    }\n",
       "</style>\n",
       "<table border=\"1\" class=\"dataframe\">\n",
       "  <thead>\n",
       "    <tr style=\"text-align: right;\">\n",
       "      <th></th>\n",
       "      <th>diam</th>\n",
       "      <th>spin</th>\n",
       "      <th>orbit</th>\n",
       "    </tr>\n",
       "  </thead>\n",
       "  <tbody>\n",
       "    <tr>\n",
       "      <th>Earth</th>\n",
       "      <td>12756</td>\n",
       "      <td>0.997</td>\n",
       "      <td>365.25</td>\n",
       "    </tr>\n",
       "    <tr>\n",
       "      <th>Mercury</th>\n",
       "      <td>4878</td>\n",
       "      <td>59.000</td>\n",
       "      <td>88.00</td>\n",
       "    </tr>\n",
       "    <tr>\n",
       "      <th>Venus</th>\n",
       "      <td>12104</td>\n",
       "      <td>243.000</td>\n",
       "      <td>0.90</td>\n",
       "    </tr>\n",
       "  </tbody>\n",
       "</table>\n",
       "</div>"
      ],
      "text/plain": [
       "          diam     spin   orbit\n",
       "Earth    12756    0.997  365.25\n",
       "Mercury   4878   59.000   88.00\n",
       "Venus    12104  243.000    0.90"
      ]
     },
     "execution_count": 15,
     "metadata": {},
     "output_type": "execute_result"
    }
   ],
   "source": [
    "planets2"
   ]
  },
  {
   "cell_type": "markdown",
   "metadata": {},
   "source": [
    "The planet names (keys) become the indexes (labels), with rows listed in alpha order. The order of the keys in a `dict` is considered arbitrary, so pandas helpfully sorts them for us. "
   ]
  },
  {
   "cell_type": "markdown",
   "metadata": {
    "slideshow": {
     "slide_type": "subslide"
    }
   },
   "source": [
    "## … From a dict of NumPy Arrays\n",
    "One array per column. Specify index on DataFrame creation."
   ]
  },
  {
   "cell_type": "code",
   "execution_count": 16,
   "metadata": {},
   "outputs": [],
   "source": [
    "planets_dict_of_arrays = {\n",
    "    'diam':np.array([4878,12104,12756]),\n",
    "    'spin':np.array([59,243,0.997]),\n",
    "    'orbit':np.array([88,0.9,365.25])\n",
    "}\n",
    "planets3=pd.DataFrame(planets_dict_of_arrays, index=['Mercury','Venus','Earth'])"
   ]
  },
  {
   "cell_type": "code",
   "execution_count": 17,
   "metadata": {
    "slideshow": {
     "slide_type": "subslide"
    }
   },
   "outputs": [
    {
     "data": {
      "text/html": [
       "<div>\n",
       "<style scoped>\n",
       "    .dataframe tbody tr th:only-of-type {\n",
       "        vertical-align: middle;\n",
       "    }\n",
       "\n",
       "    .dataframe tbody tr th {\n",
       "        vertical-align: top;\n",
       "    }\n",
       "\n",
       "    .dataframe thead th {\n",
       "        text-align: right;\n",
       "    }\n",
       "</style>\n",
       "<table border=\"1\" class=\"dataframe\">\n",
       "  <thead>\n",
       "    <tr style=\"text-align: right;\">\n",
       "      <th></th>\n",
       "      <th>diam</th>\n",
       "      <th>spin</th>\n",
       "      <th>orbit</th>\n",
       "    </tr>\n",
       "  </thead>\n",
       "  <tbody>\n",
       "    <tr>\n",
       "      <th>Mercury</th>\n",
       "      <td>4878</td>\n",
       "      <td>59.000</td>\n",
       "      <td>88.00</td>\n",
       "    </tr>\n",
       "    <tr>\n",
       "      <th>Venus</th>\n",
       "      <td>12104</td>\n",
       "      <td>243.000</td>\n",
       "      <td>0.90</td>\n",
       "    </tr>\n",
       "    <tr>\n",
       "      <th>Earth</th>\n",
       "      <td>12756</td>\n",
       "      <td>0.997</td>\n",
       "      <td>365.25</td>\n",
       "    </tr>\n",
       "  </tbody>\n",
       "</table>\n",
       "</div>"
      ],
      "text/plain": [
       "          diam     spin   orbit\n",
       "Mercury   4878   59.000   88.00\n",
       "Venus    12104  243.000    0.90\n",
       "Earth    12756    0.997  365.25"
      ]
     },
     "execution_count": 17,
     "metadata": {},
     "output_type": "execute_result"
    }
   ],
   "source": [
    "planets3"
   ]
  },
  {
   "cell_type": "markdown",
   "metadata": {},
   "source": [
    "This time the rows are listed in the order given in the index."
   ]
  },
  {
   "cell_type": "markdown",
   "metadata": {
    "slideshow": {
     "slide_type": "subslide"
    }
   },
   "source": [
    "## … From a 2D NumPy Array"
   ]
  },
  {
   "cell_type": "code",
   "execution_count": 18,
   "metadata": {},
   "outputs": [
    {
     "data": {
      "text/plain": [
       "array([[4.8780e+03, 1.2104e+04, 1.2756e+04],\n",
       "       [5.9000e+01, 2.4300e+02, 9.9700e-01],\n",
       "       [8.8000e+01, 9.0000e-01, 3.6525e+02]])"
      ]
     },
     "execution_count": 18,
     "metadata": {},
     "output_type": "execute_result"
    }
   ],
   "source": [
    "planets_2d_array = \\\n",
    "  np.array([[4878,12104,12756],\n",
    "            [59,243,0.997],\n",
    "            [88,0.9,365.25]])\n",
    "planets_2d_array"
   ]
  },
  {
   "cell_type": "markdown",
   "metadata": {
    "slideshow": {
     "slide_type": "subslide"
    }
   },
   "source": [
    "Specify both row indexes and column names ..."
   ]
  },
  {
   "cell_type": "code",
   "execution_count": 19,
   "metadata": {},
   "outputs": [],
   "source": [
    "planets4=pd.DataFrame(planets_2d_array,\n",
    "                   columns=['Mercury','Venus','Earth'],\n",
    "                   index=['diam','spin','orbit'])"
   ]
  },
  {
   "cell_type": "code",
   "execution_count": 20,
   "metadata": {
    "slideshow": {
     "slide_type": "subslide"
    }
   },
   "outputs": [
    {
     "data": {
      "text/html": [
       "<div>\n",
       "<style scoped>\n",
       "    .dataframe tbody tr th:only-of-type {\n",
       "        vertical-align: middle;\n",
       "    }\n",
       "\n",
       "    .dataframe tbody tr th {\n",
       "        vertical-align: top;\n",
       "    }\n",
       "\n",
       "    .dataframe thead th {\n",
       "        text-align: right;\n",
       "    }\n",
       "</style>\n",
       "<table border=\"1\" class=\"dataframe\">\n",
       "  <thead>\n",
       "    <tr style=\"text-align: right;\">\n",
       "      <th></th>\n",
       "      <th>Mercury</th>\n",
       "      <th>Venus</th>\n",
       "      <th>Earth</th>\n",
       "    </tr>\n",
       "  </thead>\n",
       "  <tbody>\n",
       "    <tr>\n",
       "      <th>diam</th>\n",
       "      <td>4878.0</td>\n",
       "      <td>12104.0</td>\n",
       "      <td>12756.000</td>\n",
       "    </tr>\n",
       "    <tr>\n",
       "      <th>spin</th>\n",
       "      <td>59.0</td>\n",
       "      <td>243.0</td>\n",
       "      <td>0.997</td>\n",
       "    </tr>\n",
       "    <tr>\n",
       "      <th>orbit</th>\n",
       "      <td>88.0</td>\n",
       "      <td>0.9</td>\n",
       "      <td>365.250</td>\n",
       "    </tr>\n",
       "  </tbody>\n",
       "</table>\n",
       "</div>"
      ],
      "text/plain": [
       "       Mercury    Venus      Earth\n",
       "diam    4878.0  12104.0  12756.000\n",
       "spin      59.0    243.0      0.997\n",
       "orbit     88.0      0.9    365.250"
      ]
     },
     "execution_count": 20,
     "metadata": {},
     "output_type": "execute_result"
    }
   ],
   "source": [
    "planets4"
   ]
  },
  {
   "cell_type": "markdown",
   "metadata": {},
   "source": [
    "Now the data appears in the same order as given by `index` and `columns`."
   ]
  },
  {
   "cell_type": "markdown",
   "metadata": {
    "slideshow": {
     "slide_type": "subslide"
    }
   },
   "source": [
    "## … from a NumPy `rec.array`\n",
    "A `rec.array` with `dtype` used to spec column names and data types:"
   ]
  },
  {
   "cell_type": "code",
   "execution_count": 21,
   "metadata": {},
   "outputs": [
    {
     "data": {
      "text/plain": [
       "rec.array([('Mercury', 4878., 1.2104e+04, 1.2756e+04),\n",
       "           ('Venus',   59., 2.4300e+02, 9.9700e-01),\n",
       "           ('Earth',   88., 9.0000e-01, 3.6525e+02)],\n",
       "          dtype=[('name', '<U10'), ('diam', '<f8'), ('spin', '<f8'), ('orbit', '<f8')])"
      ]
     },
     "execution_count": 21,
     "metadata": {},
     "output_type": "execute_result"
    }
   ],
   "source": [
    "planets_rec_array = \\\n",
    "    np.rec.array([('Mercury',4878,12104,12756),\n",
    "                  ('Venus',59,243,0.997),\n",
    "                  ('Earth',88,0.9,365.25)],\n",
    "                  dtype=[('name','U10'),('diam',float),\n",
    "                         ('spin',float),('orbit',float)])\n",
    "planets_rec_array"
   ]
  },
  {
   "cell_type": "code",
   "execution_count": 22,
   "metadata": {
    "slideshow": {
     "slide_type": "subslide"
    }
   },
   "outputs": [
    {
     "data": {
      "text/html": [
       "<div>\n",
       "<style scoped>\n",
       "    .dataframe tbody tr th:only-of-type {\n",
       "        vertical-align: middle;\n",
       "    }\n",
       "\n",
       "    .dataframe tbody tr th {\n",
       "        vertical-align: top;\n",
       "    }\n",
       "\n",
       "    .dataframe thead th {\n",
       "        text-align: right;\n",
       "    }\n",
       "</style>\n",
       "<table border=\"1\" class=\"dataframe\">\n",
       "  <thead>\n",
       "    <tr style=\"text-align: right;\">\n",
       "      <th></th>\n",
       "      <th>name</th>\n",
       "      <th>diam</th>\n",
       "      <th>spin</th>\n",
       "      <th>orbit</th>\n",
       "    </tr>\n",
       "  </thead>\n",
       "  <tbody>\n",
       "    <tr>\n",
       "      <th>0</th>\n",
       "      <td>Mercury</td>\n",
       "      <td>4878.0</td>\n",
       "      <td>12104.0</td>\n",
       "      <td>12756.000</td>\n",
       "    </tr>\n",
       "    <tr>\n",
       "      <th>1</th>\n",
       "      <td>Venus</td>\n",
       "      <td>59.0</td>\n",
       "      <td>243.0</td>\n",
       "      <td>0.997</td>\n",
       "    </tr>\n",
       "    <tr>\n",
       "      <th>2</th>\n",
       "      <td>Earth</td>\n",
       "      <td>88.0</td>\n",
       "      <td>0.9</td>\n",
       "      <td>365.250</td>\n",
       "    </tr>\n",
       "  </tbody>\n",
       "</table>\n",
       "</div>"
      ],
      "text/plain": [
       "      name    diam     spin      orbit\n",
       "0  Mercury  4878.0  12104.0  12756.000\n",
       "1    Venus    59.0    243.0      0.997\n",
       "2    Earth    88.0      0.9    365.250"
      ]
     },
     "execution_count": 22,
     "metadata": {},
     "output_type": "execute_result"
    }
   ],
   "source": [
    "planets5=pd.DataFrame(planets_rec_array)\n",
    "planets5"
   ]
  },
  {
   "cell_type": "markdown",
   "metadata": {},
   "source": [
    "Note that `name` is a regular column, not the index. "
   ]
  },
  {
   "cell_type": "markdown",
   "metadata": {
    "slideshow": {
     "slide_type": "subslide"
    }
   },
   "source": [
    "To make `name` the index you have to specify that on creation "
   ]
  },
  {
   "cell_type": "code",
   "execution_count": 23,
   "metadata": {},
   "outputs": [
    {
     "data": {
      "text/html": [
       "<div>\n",
       "<style scoped>\n",
       "    .dataframe tbody tr th:only-of-type {\n",
       "        vertical-align: middle;\n",
       "    }\n",
       "\n",
       "    .dataframe tbody tr th {\n",
       "        vertical-align: top;\n",
       "    }\n",
       "\n",
       "    .dataframe thead th {\n",
       "        text-align: right;\n",
       "    }\n",
       "</style>\n",
       "<table border=\"1\" class=\"dataframe\">\n",
       "  <thead>\n",
       "    <tr style=\"text-align: right;\">\n",
       "      <th></th>\n",
       "      <th>name</th>\n",
       "      <th>diam</th>\n",
       "      <th>spin</th>\n",
       "      <th>orbit</th>\n",
       "    </tr>\n",
       "  </thead>\n",
       "  <tbody>\n",
       "    <tr>\n",
       "      <th>Mercury</th>\n",
       "      <td>Mercury</td>\n",
       "      <td>4878.0</td>\n",
       "      <td>12104.0</td>\n",
       "      <td>12756.000</td>\n",
       "    </tr>\n",
       "    <tr>\n",
       "      <th>Venus</th>\n",
       "      <td>Venus</td>\n",
       "      <td>59.0</td>\n",
       "      <td>243.0</td>\n",
       "      <td>0.997</td>\n",
       "    </tr>\n",
       "    <tr>\n",
       "      <th>Earth</th>\n",
       "      <td>Earth</td>\n",
       "      <td>88.0</td>\n",
       "      <td>0.9</td>\n",
       "      <td>365.250</td>\n",
       "    </tr>\n",
       "  </tbody>\n",
       "</table>\n",
       "</div>"
      ],
      "text/plain": [
       "            name    diam     spin      orbit\n",
       "Mercury  Mercury  4878.0  12104.0  12756.000\n",
       "Venus      Venus    59.0    243.0      0.997\n",
       "Earth      Earth    88.0      0.9    365.250"
      ]
     },
     "execution_count": 23,
     "metadata": {},
     "output_type": "execute_result"
    }
   ],
   "source": [
    "planets6 = pd.DataFrame(planets_rec_array,index=planets_rec_array.name)\n",
    "planets6"
   ]
  },
  {
   "cell_type": "markdown",
   "metadata": {
    "slideshow": {
     "slide_type": "subslide"
    }
   },
   "source": [
    "... and then delete the extra column"
   ]
  },
  {
   "cell_type": "code",
   "execution_count": 24,
   "metadata": {},
   "outputs": [
    {
     "data": {
      "text/html": [
       "<div>\n",
       "<style scoped>\n",
       "    .dataframe tbody tr th:only-of-type {\n",
       "        vertical-align: middle;\n",
       "    }\n",
       "\n",
       "    .dataframe tbody tr th {\n",
       "        vertical-align: top;\n",
       "    }\n",
       "\n",
       "    .dataframe thead th {\n",
       "        text-align: right;\n",
       "    }\n",
       "</style>\n",
       "<table border=\"1\" class=\"dataframe\">\n",
       "  <thead>\n",
       "    <tr style=\"text-align: right;\">\n",
       "      <th></th>\n",
       "      <th>diam</th>\n",
       "      <th>spin</th>\n",
       "      <th>orbit</th>\n",
       "    </tr>\n",
       "  </thead>\n",
       "  <tbody>\n",
       "    <tr>\n",
       "      <th>Mercury</th>\n",
       "      <td>4878.0</td>\n",
       "      <td>12104.0</td>\n",
       "      <td>12756.000</td>\n",
       "    </tr>\n",
       "    <tr>\n",
       "      <th>Venus</th>\n",
       "      <td>59.0</td>\n",
       "      <td>243.0</td>\n",
       "      <td>0.997</td>\n",
       "    </tr>\n",
       "    <tr>\n",
       "      <th>Earth</th>\n",
       "      <td>88.0</td>\n",
       "      <td>0.9</td>\n",
       "      <td>365.250</td>\n",
       "    </tr>\n",
       "  </tbody>\n",
       "</table>\n",
       "</div>"
      ],
      "text/plain": [
       "           diam     spin      orbit\n",
       "Mercury  4878.0  12104.0  12756.000\n",
       "Venus      59.0    243.0      0.997\n",
       "Earth      88.0      0.9    365.250"
      ]
     },
     "execution_count": 24,
     "metadata": {},
     "output_type": "execute_result"
    }
   ],
   "source": [
    "del planets6['name']\n",
    "planets6"
   ]
  },
  {
   "cell_type": "markdown",
   "metadata": {
    "slideshow": {
     "slide_type": "slide"
    }
   },
   "source": [
    "# Missing Data\n",
    "Note that the 'pop' dictionary below only has data for Earth."
   ]
  },
  {
   "cell_type": "code",
   "execution_count": 25,
   "metadata": {},
   "outputs": [
    {
     "data": {
      "text/html": [
       "<div>\n",
       "<style scoped>\n",
       "    .dataframe tbody tr th:only-of-type {\n",
       "        vertical-align: middle;\n",
       "    }\n",
       "\n",
       "    .dataframe tbody tr th {\n",
       "        vertical-align: top;\n",
       "    }\n",
       "\n",
       "    .dataframe thead th {\n",
       "        text-align: right;\n",
       "    }\n",
       "</style>\n",
       "<table border=\"1\" class=\"dataframe\">\n",
       "  <thead>\n",
       "    <tr style=\"text-align: right;\">\n",
       "      <th></th>\n",
       "      <th>diam</th>\n",
       "      <th>spin</th>\n",
       "      <th>orbit</th>\n",
       "      <th>pop</th>\n",
       "    </tr>\n",
       "  </thead>\n",
       "  <tbody>\n",
       "    <tr>\n",
       "      <th>Earth</th>\n",
       "      <td>12756</td>\n",
       "      <td>0.997</td>\n",
       "      <td>365.25</td>\n",
       "      <td>7.500000e+09</td>\n",
       "    </tr>\n",
       "    <tr>\n",
       "      <th>Mercury</th>\n",
       "      <td>4878</td>\n",
       "      <td>59.000</td>\n",
       "      <td>88.00</td>\n",
       "      <td>NaN</td>\n",
       "    </tr>\n",
       "    <tr>\n",
       "      <th>Venus</th>\n",
       "      <td>12104</td>\n",
       "      <td>243.000</td>\n",
       "      <td>0.90</td>\n",
       "      <td>NaN</td>\n",
       "    </tr>\n",
       "  </tbody>\n",
       "</table>\n",
       "</div>"
      ],
      "text/plain": [
       "          diam     spin   orbit           pop\n",
       "Earth    12756    0.997  365.25  7.500000e+09\n",
       "Mercury   4878   59.000   88.00           NaN\n",
       "Venus    12104  243.000    0.90           NaN"
      ]
     },
     "execution_count": 25,
     "metadata": {},
     "output_type": "execute_result"
    }
   ],
   "source": [
    "planets_dict_of_dicts_with_missing_data= {\n",
    "    'diam':{'Mercury':4878,'Venus':12104,'Earth':12756},\n",
    "    'spin':{'Mercury':59,'Venus':243,'Earth':0.997},\n",
    "    'orbit':{'Mercury':88,'Venus':0.9,'Earth':365.25},\n",
    "    'pop':{'Earth':7500000000}\n",
    "}\n",
    "planets7=pd.DataFrame(planets_dict_of_dicts_with_missing_data)\n",
    "planets7"
   ]
  },
  {
   "cell_type": "markdown",
   "metadata": {
    "slideshow": {
     "slide_type": "slide"
    }
   },
   "source": [
    "# Adding and Deleting Columns\n",
    "Since a DataFrame acts like a `dict` of columns (Series), it's not surprising that **adding and deleting columns works just like a dictionary.**"
   ]
  },
  {
   "cell_type": "code",
   "execution_count": 26,
   "metadata": {},
   "outputs": [
    {
     "data": {
      "text/html": [
       "<div>\n",
       "<style scoped>\n",
       "    .dataframe tbody tr th:only-of-type {\n",
       "        vertical-align: middle;\n",
       "    }\n",
       "\n",
       "    .dataframe tbody tr th {\n",
       "        vertical-align: top;\n",
       "    }\n",
       "\n",
       "    .dataframe thead th {\n",
       "        text-align: right;\n",
       "    }\n",
       "</style>\n",
       "<table border=\"1\" class=\"dataframe\">\n",
       "  <thead>\n",
       "    <tr style=\"text-align: right;\">\n",
       "      <th></th>\n",
       "      <th>diam</th>\n",
       "      <th>spin</th>\n",
       "      <th>orbit</th>\n",
       "      <th>pop</th>\n",
       "    </tr>\n",
       "  </thead>\n",
       "  <tbody>\n",
       "    <tr>\n",
       "      <th>Earth</th>\n",
       "      <td>12756</td>\n",
       "      <td>0.997</td>\n",
       "      <td>365.25</td>\n",
       "      <td>7.500000e+09</td>\n",
       "    </tr>\n",
       "    <tr>\n",
       "      <th>Mercury</th>\n",
       "      <td>4878</td>\n",
       "      <td>59.000</td>\n",
       "      <td>88.00</td>\n",
       "      <td>NaN</td>\n",
       "    </tr>\n",
       "    <tr>\n",
       "      <th>Venus</th>\n",
       "      <td>12104</td>\n",
       "      <td>243.000</td>\n",
       "      <td>0.90</td>\n",
       "      <td>NaN</td>\n",
       "    </tr>\n",
       "  </tbody>\n",
       "</table>\n",
       "</div>"
      ],
      "text/plain": [
       "          diam     spin   orbit           pop\n",
       "Earth    12756    0.997  365.25  7.500000e+09\n",
       "Mercury   4878   59.000   88.00           NaN\n",
       "Venus    12104  243.000    0.90           NaN"
      ]
     },
     "execution_count": 26,
     "metadata": {},
     "output_type": "execute_result"
    }
   ],
   "source": [
    "# add the 'pop' column to planets2\n",
    "planets2['pop'] = pd.Series({'Earth':7500000000},index=['Mercury','Venus','Earth'])\n",
    "planets2"
   ]
  },
  {
   "cell_type": "code",
   "execution_count": 27,
   "metadata": {
    "slideshow": {
     "slide_type": "subslide"
    }
   },
   "outputs": [
    {
     "data": {
      "text/html": [
       "<div>\n",
       "<style scoped>\n",
       "    .dataframe tbody tr th:only-of-type {\n",
       "        vertical-align: middle;\n",
       "    }\n",
       "\n",
       "    .dataframe tbody tr th {\n",
       "        vertical-align: top;\n",
       "    }\n",
       "\n",
       "    .dataframe thead th {\n",
       "        text-align: right;\n",
       "    }\n",
       "</style>\n",
       "<table border=\"1\" class=\"dataframe\">\n",
       "  <thead>\n",
       "    <tr style=\"text-align: right;\">\n",
       "      <th></th>\n",
       "      <th>diam</th>\n",
       "      <th>spin</th>\n",
       "      <th>orbit</th>\n",
       "    </tr>\n",
       "  </thead>\n",
       "  <tbody>\n",
       "    <tr>\n",
       "      <th>Earth</th>\n",
       "      <td>12756</td>\n",
       "      <td>0.997</td>\n",
       "      <td>365.25</td>\n",
       "    </tr>\n",
       "    <tr>\n",
       "      <th>Mercury</th>\n",
       "      <td>4878</td>\n",
       "      <td>59.000</td>\n",
       "      <td>88.00</td>\n",
       "    </tr>\n",
       "    <tr>\n",
       "      <th>Venus</th>\n",
       "      <td>12104</td>\n",
       "      <td>243.000</td>\n",
       "      <td>0.90</td>\n",
       "    </tr>\n",
       "  </tbody>\n",
       "</table>\n",
       "</div>"
      ],
      "text/plain": [
       "          diam     spin   orbit\n",
       "Earth    12756    0.997  365.25\n",
       "Mercury   4878   59.000   88.00\n",
       "Venus    12104  243.000    0.90"
      ]
     },
     "execution_count": 27,
     "metadata": {},
     "output_type": "execute_result"
    }
   ],
   "source": [
    "# delete the 'pop' column from planets2\n",
    "del planets2['pop']\n",
    "planets2"
   ]
  },
  {
   "cell_type": "markdown",
   "metadata": {
    "slideshow": {
     "slide_type": "slide"
    }
   },
   "source": [
    "# Input / Output\n",
    "## HTML, CSV, Excel, SQL, JSON, Google Big Query, etc."
   ]
  },
  {
   "cell_type": "markdown",
   "metadata": {
    "slideshow": {
     "slide_type": "slide"
    }
   },
   "source": [
    "![IO Tools](img/L6_IO_Tools.png)  \n",
    "Ref: http://pandas.pydata.org/pandas-docs/stable/io.html#io-tools-text-csv-hdf5"
   ]
  },
  {
   "cell_type": "markdown",
   "metadata": {
    "slideshow": {
     "slide_type": "slide"
    }
   },
   "source": [
    "# HTML Files\n",
    "To write an HTML table to a file (or a string or a stream), just use the DataFrame's `to_html()` method:\n",
    "```python\n",
    "planets6.to_html(\"planets.html\")\n",
    "```\n",
    "It really could not be simpler.  \n",
    "\n",
    "Reading HTML files is also supported via the `read_html()` function. However, unless the HTML is very small and well-structured as a table, you will likely find more luck with a dedicated HTML parsing library like [Beautiful Soup](https://www.crummy.com/software/BeautifulSoup/)."
   ]
  },
  {
   "cell_type": "markdown",
   "metadata": {
    "slideshow": {
     "slide_type": "slide"
    }
   },
   "source": [
    "# CSV Files\n",
    "```python\n",
    "# write to a CSV file called \"planets.csv\"\n",
    "planets6.to_csv(\"planets.csv\")\n",
    "\n",
    "# reading is also very straightforward\n",
    "planets7 = pd.read_csv(\"planets.csv\",index_col=0)\n",
    "\n",
    "# To read a CSV file over the web just use a URL\n",
    "planets9 = pd.read_csv(\"https://planets.org/data.csv\")\n",
    "```"
   ]
  },
  {
   "cell_type": "markdown",
   "metadata": {
    "slideshow": {
     "slide_type": "slide"
    }
   },
   "source": [
    "# And so forth ...\n",
    "By providing a consistent interface for the I/O functions and methods, pandas makes it pretty easy to guess how to deal with new formats. \n",
    "\n",
    "There may be some optional arguments that vary according to format, but usually the defaults do pretty much what you expect them to do. \n",
    "\n",
    "As always, [RTFM](http://pandas.pydata.org/pandas-docs/stable/io.html#io-tools-text-csv-hdf5) if you need something special. Heck, read the docs anyway. It's good for you. "
   ]
  },
  {
   "cell_type": "markdown",
   "metadata": {
    "slideshow": {
     "slide_type": "slide"
    }
   },
   "source": [
    "# Classwork (Start here in class)\n",
    "- If time permits, start in on your homework \n",
    "\n",
    "# Homework (Do at home)\n",
    "The following is due before class next week:\n",
    "- Any remaining classwork from tonight\n",
    "\n",
    "Please email chuntley@fairfield.edu if you have any problems or questions."
   ]
  }
 ],
 "metadata": {
  "kernelspec": {
   "display_name": "Python 3",
   "language": "python",
   "name": "python3"
  },
  "language_info": {
   "codemirror_mode": {
    "name": "ipython",
    "version": 3
   },
   "file_extension": ".py",
   "mimetype": "text/x-python",
   "name": "python",
   "nbconvert_exporter": "python",
   "pygments_lexer": "ipython3",
   "version": "3.6.6"
  }
 },
 "nbformat": 4,
 "nbformat_minor": 2
}
